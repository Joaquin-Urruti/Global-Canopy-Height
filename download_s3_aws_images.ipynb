{
 "cells": [
  {
   "cell_type": "code",
   "execution_count": 16,
   "metadata": {},
   "outputs": [],
   "source": [
    "import os\n",
    "import pandas as pd\n",
    "import geopandas as gpd\n",
    "import re\n",
    "import glob"
   ]
  },
  {
   "cell_type": "code",
   "execution_count": 2,
   "metadata": {},
   "outputs": [
    {
     "name": "stdout",
     "output_type": "stream",
     "text": [
      "                           PRE California/\n",
      "                           PRE USA/\n",
      "                           PRE alsgedi_global_v6_float/\n",
      "                           PRE europe/\n",
      "                           PRE models/\n",
      "                           PRE sao_paulo/\n",
      "                           PRE subsaharan_africa/\n",
      "2023-03-06 18:53:48          0 \n",
      "2023-03-22 20:07:58     878919 NEON_training_images.csv\n",
      "2024-04-25 14:18:30       1283 readme.txt\n"
     ]
    }
   ],
   "source": [
    "!aws s3 ls --no-sign-request s3://dataforgood-fb-data/forests/v1/"
   ]
  },
  {
   "cell_type": "code",
   "execution_count": 3,
   "metadata": {},
   "outputs": [
    {
     "name": "stdout",
     "output_type": "stream",
     "text": [
      "download: s3://dataforgood-fb-data/forests/v1/readme.txt to ./readme.txt\n"
     ]
    }
   ],
   "source": [
    "# Download readme.txt\n",
    "!aws s3 cp --no-sign-request s3://dataforgood-fb-data/forests/v1/readme.txt readme.txt"
   ]
  },
  {
   "cell_type": "code",
   "execution_count": 15,
   "metadata": {},
   "outputs": [],
   "source": [
    "# Uncomment to download tiles\n",
    "# !aws s3 cp --no-sign-request s3://dataforgood-fb-data/forests/v1/alsgedi_global_v6_float/tiles.geojson tiles.geojson"
   ]
  },
  {
   "cell_type": "code",
   "execution_count": 17,
   "metadata": {},
   "outputs": [
    {
     "data": {
      "text/html": [
       "<div>\n",
       "<style scoped>\n",
       "    .dataframe tbody tr th:only-of-type {\n",
       "        vertical-align: middle;\n",
       "    }\n",
       "\n",
       "    .dataframe tbody tr th {\n",
       "        vertical-align: top;\n",
       "    }\n",
       "\n",
       "    .dataframe thead th {\n",
       "        text-align: right;\n",
       "    }\n",
       "</style>\n",
       "<table border=\"1\" class=\"dataframe\">\n",
       "  <thead>\n",
       "    <tr style=\"text-align: right;\">\n",
       "      <th></th>\n",
       "      <th>tile</th>\n",
       "      <th>geometry</th>\n",
       "    </tr>\n",
       "  </thead>\n",
       "  <tbody>\n",
       "    <tr>\n",
       "      <th>0</th>\n",
       "      <td>023013213</td>\n",
       "      <td>POLYGON ((-115.31250 33.13755, -115.31250 33.7...</td>\n",
       "    </tr>\n",
       "    <tr>\n",
       "      <th>1</th>\n",
       "      <td>021210020</td>\n",
       "      <td>POLYGON ((-123.04688 54.57206, -123.04688 54.9...</td>\n",
       "    </tr>\n",
       "    <tr>\n",
       "      <th>2</th>\n",
       "      <td>130122211</td>\n",
       "      <td>POLYGON ((115.31250 56.94497, 115.31250 57.326...</td>\n",
       "    </tr>\n",
       "    <tr>\n",
       "      <th>3</th>\n",
       "      <td>121022223</td>\n",
       "      <td>POLYGON ((46.40625 55.77657, 46.40625 56.17002...</td>\n",
       "    </tr>\n",
       "    <tr>\n",
       "      <th>4</th>\n",
       "      <td>310111000</td>\n",
       "      <td>POLYGON ((130.07812 -0.70311, 130.07812 0.0000...</td>\n",
       "    </tr>\n",
       "  </tbody>\n",
       "</table>\n",
       "</div>"
      ],
      "text/plain": [
       "        tile                                           geometry\n",
       "0  023013213  POLYGON ((-115.31250 33.13755, -115.31250 33.7...\n",
       "1  021210020  POLYGON ((-123.04688 54.57206, -123.04688 54.9...\n",
       "2  130122211  POLYGON ((115.31250 56.94497, 115.31250 57.326...\n",
       "3  121022223  POLYGON ((46.40625 55.77657, 46.40625 56.17002...\n",
       "4  310111000  POLYGON ((130.07812 -0.70311, 130.07812 0.0000..."
      ]
     },
     "execution_count": 17,
     "metadata": {},
     "output_type": "execute_result"
    }
   ],
   "source": [
    "tiles = gpd.read_file('tiles.geojson')\n",
    "tiles.head()"
   ]
  },
  {
   "cell_type": "code",
   "execution_count": 21,
   "metadata": {},
   "outputs": [
    {
     "name": "stderr",
     "output_type": "stream",
     "text": [
      "/Users/ju/anaconda3/envs/geo/lib/python3.9/site-packages/geopandas/io/file.py:364: FutureWarning: errors='ignore' is deprecated and will raise in a future version. Use to_datetime without passing `errors` and catch exceptions explicitly instead\n",
      "  as_dt = pd.to_datetime(df[k], errors=\"ignore\")\n"
     ]
    }
   ],
   "source": [
    "# Load your region of interest\n",
    "roi = gpd.read_file('roi.gpkg')"
   ]
  },
  {
   "cell_type": "code",
   "execution_count": 26,
   "metadata": {},
   "outputs": [
    {
     "data": {
      "text/plain": [
       "['210322111']"
      ]
     },
     "execution_count": 26,
     "metadata": {},
     "output_type": "execute_result"
    }
   ],
   "source": [
    "selected_tiles = tiles.overlay(roi, how='intersection')\n",
    "selected_tiles = list(selected_tiles.tile.unique())\n",
    "selected_tiles"
   ]
  },
  {
   "cell_type": "code",
   "execution_count": 27,
   "metadata": {},
   "outputs": [],
   "source": [
    "dir = './outputs/'\n",
    "if not os.path.exists(dir):\n",
    "    os.makedirs(dir)"
   ]
  },
  {
   "cell_type": "code",
   "execution_count": 28,
   "metadata": {},
   "outputs": [
    {
     "name": "stdout",
     "output_type": "stream",
     "text": [
      "download: s3://dataforgood-fb-data/forests/v1/alsgedi_global_v6_float/chm/210322111.tif to outputs/210322111.tif\n"
     ]
    }
   ],
   "source": [
    "for file in selected_tiles:\n",
    "    !aws s3 cp --no-sign-request s3://dataforgood-fb-data/forests/v1/alsgedi_global_v6_float/chm/{file}.tif ./outputs/{file}.tif"
   ]
  },
  {
   "cell_type": "markdown",
   "metadata": {},
   "source": [
    "# To download all images from a range of tiles"
   ]
  },
  {
   "cell_type": "code",
   "execution_count": 4,
   "metadata": {},
   "outputs": [],
   "source": [
    "# Look up all the files in the selected directory\n",
    "# data = !aws s3 ls --no-sign-request s3://dataforgood-fb-data/forests/v1/alsgedi_global_v6_float/chm/"
   ]
  },
  {
   "cell_type": "code",
   "execution_count": 11,
   "metadata": {},
   "outputs": [],
   "source": [
    "# data_dict = {'dates':[], 'times':[], 'ids':[], 'tiles':[], 'files':[]}\n",
    "\n",
    "# for row in data[1:]:\n",
    "#     date = row.split()[0]\n",
    "#     time = row.split()[1]\n",
    "#     id = row.split()[2]\n",
    "#     file = row.split()[3]\n",
    "#     tile = re.search(r'\\d+', file)\n",
    "#     # print('tile', tile)\n",
    "#     if tile:\n",
    "#         number = int(tile.group())\n",
    "#         if number > 210122223 and number < 213023303:\n",
    "#             data_dict['dates'].append(date)\n",
    "#             data_dict['times'].append(time)\n",
    "#             data_dict['ids'].append(id)\n",
    "#             data_dict['tiles'].append(number)\n",
    "#             data_dict['files'].append(file)"
   ]
  },
  {
   "cell_type": "code",
   "execution_count": 12,
   "metadata": {},
   "outputs": [],
   "source": [
    "# data_df = pd.DataFrame(data_dict)\n",
    "# data_df.to_excel('images.xlsx')"
   ]
  },
  {
   "cell_type": "code",
   "execution_count": null,
   "metadata": {},
   "outputs": [],
   "source": [
    "# len(data_dict['files'])"
   ]
  },
  {
   "cell_type": "code",
   "execution_count": null,
   "metadata": {},
   "outputs": [],
   "source": [
    "# for file in data_dict['files']:\n",
    "#     !aws s3 cp --no-sign-request s3://dataforgood-fb-data/forests/v1/alsgedi_global_v6_float/chm/{file} ./outputs/{file}"
   ]
  },
  {
   "cell_type": "code",
   "execution_count": null,
   "metadata": {},
   "outputs": [],
   "source": [
    "# # Define the path to the target directory\n",
    "# target_directory = './outputs'\n",
    "\n",
    "# # Build the search pattern for .tif files\n",
    "# search_pattern = os.path.join(target_directory, '*.tif')\n",
    "\n",
    "# # List all .tif files in the specified directory\n",
    "# tif_files = glob.glob(search_pattern)\n",
    "\n",
    "# # Write the file names (names only, without path) to a text file\n",
    "# with open('./outputs/filelist.txt', 'w') as file:\n",
    "#     for file_path in tif_files:\n",
    "#         # Extract only the file name without the path\n",
    "#         file_name = os.path.basename(file_path)\n",
    "#         file.write(file_name + '\\n')"
   ]
  },
  {
   "cell_type": "code",
   "execution_count": null,
   "metadata": {},
   "outputs": [],
   "source": []
  }
 ],
 "metadata": {
  "kernelspec": {
   "display_name": "geo",
   "language": "python",
   "name": "python3"
  },
  "language_info": {
   "codemirror_mode": {
    "name": "ipython",
    "version": 3
   },
   "file_extension": ".py",
   "mimetype": "text/x-python",
   "name": "python",
   "nbconvert_exporter": "python",
   "pygments_lexer": "ipython3",
   "version": "3.9.18"
  }
 },
 "nbformat": 4,
 "nbformat_minor": 2
}
